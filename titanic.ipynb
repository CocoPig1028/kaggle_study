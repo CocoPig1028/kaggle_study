{
 "cells": [
  {
   "cell_type": "markdown",
   "id": "7b3dad2e",
   "metadata": {},
   "source": [
    "# 데이터 살펴보기 및 전처리하기"
   ]
  },
  {
   "cell_type": "code",
   "execution_count": 1,
   "id": "3fbf4b0a",
   "metadata": {},
   "outputs": [],
   "source": [
    "# kaggle titanic의 경우 데이터 분석과 학습을 통한 생존자 예측 -> 회귀\n",
    "import pandas as pd\n",
    "import numpy as np\n",
    "import matplotlib.pyplot as plt"
   ]
  },
  {
   "cell_type": "code",
   "execution_count": 2,
   "id": "3a5c8f8f",
   "metadata": {},
   "outputs": [
    {
     "name": "stdout",
     "output_type": "stream",
     "text": [
      "     PassengerId  Survived  Pclass  \\\n",
      "0              1         0       3   \n",
      "1              2         1       1   \n",
      "2              3         1       3   \n",
      "3              4         1       1   \n",
      "4              5         0       3   \n",
      "..           ...       ...     ...   \n",
      "886          887         0       2   \n",
      "887          888         1       1   \n",
      "888          889         0       3   \n",
      "889          890         1       1   \n",
      "890          891         0       3   \n",
      "\n",
      "                                                  Name     Sex   Age  SibSp  \\\n",
      "0                              Braund, Mr. Owen Harris    male  22.0      1   \n",
      "1    Cumings, Mrs. John Bradley (Florence Briggs Th...  female  38.0      1   \n",
      "2                               Heikkinen, Miss. Laina  female  26.0      0   \n",
      "3         Futrelle, Mrs. Jacques Heath (Lily May Peel)  female  35.0      1   \n",
      "4                             Allen, Mr. William Henry    male  35.0      0   \n",
      "..                                                 ...     ...   ...    ...   \n",
      "886                              Montvila, Rev. Juozas    male  27.0      0   \n",
      "887                       Graham, Miss. Margaret Edith  female  19.0      0   \n",
      "888           Johnston, Miss. Catherine Helen \"Carrie\"  female   NaN      1   \n",
      "889                              Behr, Mr. Karl Howell    male  26.0      0   \n",
      "890                                Dooley, Mr. Patrick    male  32.0      0   \n",
      "\n",
      "     Parch            Ticket     Fare Cabin Embarked  \n",
      "0        0         A/5 21171   7.2500   NaN        S  \n",
      "1        0          PC 17599  71.2833   C85        C  \n",
      "2        0  STON/O2. 3101282   7.9250   NaN        S  \n",
      "3        0            113803  53.1000  C123        S  \n",
      "4        0            373450   8.0500   NaN        S  \n",
      "..     ...               ...      ...   ...      ...  \n",
      "886      0            211536  13.0000   NaN        S  \n",
      "887      0            112053  30.0000   B42        S  \n",
      "888      2        W./C. 6607  23.4500   NaN        S  \n",
      "889      0            111369  30.0000  C148        C  \n",
      "890      0            370376   7.7500   NaN        Q  \n",
      "\n",
      "[891 rows x 12 columns]\n",
      "     PassengerId  Pclass                                          Name  \\\n",
      "0            892       3                              Kelly, Mr. James   \n",
      "1            893       3              Wilkes, Mrs. James (Ellen Needs)   \n",
      "2            894       2                     Myles, Mr. Thomas Francis   \n",
      "3            895       3                              Wirz, Mr. Albert   \n",
      "4            896       3  Hirvonen, Mrs. Alexander (Helga E Lindqvist)   \n",
      "..           ...     ...                                           ...   \n",
      "413         1305       3                            Spector, Mr. Woolf   \n",
      "414         1306       1                  Oliva y Ocana, Dona. Fermina   \n",
      "415         1307       3                  Saether, Mr. Simon Sivertsen   \n",
      "416         1308       3                           Ware, Mr. Frederick   \n",
      "417         1309       3                      Peter, Master. Michael J   \n",
      "\n",
      "        Sex   Age  SibSp  Parch              Ticket      Fare Cabin Embarked  \n",
      "0      male  34.5      0      0              330911    7.8292   NaN        Q  \n",
      "1    female  47.0      1      0              363272    7.0000   NaN        S  \n",
      "2      male  62.0      0      0              240276    9.6875   NaN        Q  \n",
      "3      male  27.0      0      0              315154    8.6625   NaN        S  \n",
      "4    female  22.0      1      1             3101298   12.2875   NaN        S  \n",
      "..      ...   ...    ...    ...                 ...       ...   ...      ...  \n",
      "413    male   NaN      0      0           A.5. 3236    8.0500   NaN        S  \n",
      "414  female  39.0      0      0            PC 17758  108.9000  C105        C  \n",
      "415    male  38.5      0      0  SOTON/O.Q. 3101262    7.2500   NaN        S  \n",
      "416    male   NaN      0      0              359309    8.0500   NaN        S  \n",
      "417    male   NaN      1      1                2668   22.3583   NaN        C  \n",
      "\n",
      "[418 rows x 11 columns]\n",
      "     PassengerId  Survived\n",
      "0            892         0\n",
      "1            893         1\n",
      "2            894         0\n",
      "3            895         0\n",
      "4            896         1\n",
      "..           ...       ...\n",
      "413         1305         0\n",
      "414         1306         1\n",
      "415         1307         0\n",
      "416         1308         0\n",
      "417         1309         0\n",
      "\n",
      "[418 rows x 2 columns]\n"
     ]
    }
   ],
   "source": [
    "# 데이터 불러오기\n",
    "train = pd.read_csv('./titanicData/train.csv')\n",
    "test = pd.read_csv('./titanicData/test.csv')\n",
    "gender_submission = pd.read_csv('./titanicData/gender_submission.csv')\n",
    "\n",
    "print(train)\n",
    "print(test)\n",
    "print(gender_submission)"
   ]
  },
  {
   "cell_type": "code",
   "execution_count": 3,
   "id": "37e425d8",
   "metadata": {},
   "outputs": [
    {
     "name": "stdout",
     "output_type": "stream",
     "text": [
      "<class 'pandas.core.frame.DataFrame'>\n",
      "RangeIndex: 891 entries, 0 to 890\n",
      "Data columns (total 12 columns):\n",
      " #   Column       Non-Null Count  Dtype  \n",
      "---  ------       --------------  -----  \n",
      " 0   PassengerId  891 non-null    int64  \n",
      " 1   Survived     891 non-null    int64  \n",
      " 2   Pclass       891 non-null    int64  \n",
      " 3   Name         891 non-null    object \n",
      " 4   Sex          891 non-null    object \n",
      " 5   Age          714 non-null    float64\n",
      " 6   SibSp        891 non-null    int64  \n",
      " 7   Parch        891 non-null    int64  \n",
      " 8   Ticket       891 non-null    object \n",
      " 9   Fare         891 non-null    float64\n",
      " 10  Cabin        204 non-null    object \n",
      " 11  Embarked     889 non-null    object \n",
      "dtypes: float64(2), int64(5), object(5)\n",
      "memory usage: 83.7+ KB\n",
      "<class 'pandas.core.frame.DataFrame'>\n",
      "RangeIndex: 418 entries, 0 to 417\n",
      "Data columns (total 11 columns):\n",
      " #   Column       Non-Null Count  Dtype  \n",
      "---  ------       --------------  -----  \n",
      " 0   PassengerId  418 non-null    int64  \n",
      " 1   Pclass       418 non-null    int64  \n",
      " 2   Name         418 non-null    object \n",
      " 3   Sex          418 non-null    object \n",
      " 4   Age          332 non-null    float64\n",
      " 5   SibSp        418 non-null    int64  \n",
      " 6   Parch        418 non-null    int64  \n",
      " 7   Ticket       418 non-null    object \n",
      " 8   Fare         417 non-null    float64\n",
      " 9   Cabin        91 non-null     object \n",
      " 10  Embarked     418 non-null    object \n",
      "dtypes: float64(2), int64(4), object(5)\n",
      "memory usage: 36.0+ KB\n"
     ]
    }
   ],
   "source": [
    "train.info()\n",
    "test.info()\n",
    "\n",
    "# train -> Age, Cabin, Embarked null 존재\n",
    "# test -> Age, Fare, Cabin, Embarked null 존재\n",
    "# Sex의 경우 카테고리형 데이터이기 때문에 수치형으로 변환시켜야함"
   ]
  },
  {
   "cell_type": "code",
   "execution_count": 4,
   "id": "3191af7a",
   "metadata": {},
   "outputs": [],
   "source": [
    "## 'Sex' 형변환\n",
    "from sklearn.preprocessing import LabelEncoder\n",
    "\n",
    "le = LabelEncoder()\n",
    "\n",
    "# train_sex_result = le.fit_transform(train['Sex'])\n",
    "train['Sex_numeric'] = le.fit_transform(train['Sex'])\n",
    "# test_sex_result = le.fit_transform(test['Sex'])\n",
    "test['Sex_numeric'] = le.fit_transform(test['Sex'])"
   ]
  },
  {
   "cell_type": "code",
   "execution_count": 5,
   "id": "7f5001e1",
   "metadata": {
    "scrolled": true
   },
   "outputs": [
    {
     "name": "stdout",
     "output_type": "stream",
     "text": [
      "Embarked\n",
      "S    644\n",
      "C    168\n",
      "Q     77\n",
      "Name: count, dtype: int64\n"
     ]
    }
   ],
   "source": [
    "print(train['Embarked'].value_counts())"
   ]
  },
  {
   "cell_type": "code",
   "execution_count": 6,
   "id": "66691bb1",
   "metadata": {},
   "outputs": [],
   "source": [
    "# null값을 가장 많은 S로 치환해야함\n",
    "train['Embarked'].fillna('S', inplace=True)\n",
    "\n",
    "# train_embarked_result = le.fit_transform(train['Embarked'])\n",
    "train['Embarked_numeric'] = le.fit_transform(train['Embarked'])\n",
    "# test_embarked_result = le.fit_transform(test['Embarked'])\n",
    "test['Embarked_numeric'] = le.fit_transform(test['Embarked'])\n",
    "# embarked 수치형으로 변환"
   ]
  },
  {
   "cell_type": "code",
   "execution_count": 7,
   "id": "41a79321",
   "metadata": {
    "scrolled": false
   },
   "outputs": [],
   "source": [
    "train['Age'].fillna(train['Age'].median(), inplace=True)\n",
    "test['Age'].fillna(test['Age'].median(), inplace=True)\n",
    "# 나이의 null값은 평균값으로 치환"
   ]
  },
  {
   "cell_type": "code",
   "execution_count": 8,
   "id": "3c242e73",
   "metadata": {},
   "outputs": [],
   "source": [
    "test['Fare'].fillna(test['Fare'].median(), inplace=True)"
   ]
  },
  {
   "cell_type": "code",
   "execution_count": 9,
   "id": "8f4b0550",
   "metadata": {},
   "outputs": [
    {
     "name": "stdout",
     "output_type": "stream",
     "text": [
      "Cabin_site\n",
      "C    59\n",
      "B    47\n",
      "D    33\n",
      "E    32\n",
      "A    15\n",
      "F    13\n",
      "G     4\n",
      "T     1\n",
      "Name: count, dtype: int64\n"
     ]
    }
   ],
   "source": [
    "mapping_num = {'A': 0, 'B': 1, 'C': 2, 'D': 3, 'E': 4, 'F': 5, 'G': 6, 'T': 7}\n",
    "\n",
    "train['Cabin_site'] = train['Cabin'].str[:1]\n",
    "# 맨 앞에가 알파벳이기 때문에 나머지를 빼고 Cabin_site에 저장\n",
    "print(train['Cabin_site'].value_counts())\n",
    "train['Cabin_site'] = train['Cabin_site'].map(mapping_num)\n",
    "# 맵핑 넘버로 치환"
   ]
  },
  {
   "cell_type": "code",
   "execution_count": 10,
   "id": "98b58696",
   "metadata": {},
   "outputs": [
    {
     "name": "stdout",
     "output_type": "stream",
     "text": [
      "Cabin_site\n",
      "5.0    491\n",
      "2.0    216\n",
      "4.5    184\n",
      "Name: count, dtype: int64\n"
     ]
    }
   ],
   "source": [
    "train['Cabin_site'] = train.groupby('Pclass')['Cabin_site'].transform('median')\n",
    "print(train['Cabin_site'].value_counts())"
   ]
  },
  {
   "cell_type": "code",
   "execution_count": 11,
   "id": "9c27a63c",
   "metadata": {},
   "outputs": [
    {
     "name": "stdout",
     "output_type": "stream",
     "text": [
      "Cabin_site\n",
      "C    35\n",
      "B    18\n",
      "D    13\n",
      "E     9\n",
      "F     8\n",
      "A     7\n",
      "G     1\n",
      "Name: count, dtype: int64\n"
     ]
    }
   ],
   "source": [
    "test['Cabin_site'] = test['Cabin'].str[:1]\n",
    "# 맨 앞에가 알파벳이기 때문에 나머지를 빼고 Cabin_site에 저장\n",
    "print(test['Cabin_site'].value_counts())\n",
    "test['Cabin_site'] = test['Cabin_site'].map(mapping_num)\n",
    "# 맵핑 넘버로 치환"
   ]
  },
  {
   "cell_type": "code",
   "execution_count": 12,
   "id": "3b2bafdd",
   "metadata": {},
   "outputs": [
    {
     "name": "stdout",
     "output_type": "stream",
     "text": [
      "Cabin_site\n",
      "5.0    311\n",
      "2.0    107\n",
      "Name: count, dtype: int64\n"
     ]
    }
   ],
   "source": [
    "test['Cabin_site'] = test.groupby('Pclass')['Cabin_site'].transform('median')\n",
    "print(test['Cabin_site'].value_counts())"
   ]
  },
  {
   "cell_type": "code",
   "execution_count": 13,
   "id": "e77f9e87",
   "metadata": {},
   "outputs": [
    {
     "data": {
      "text/html": [
       "<div>\n",
       "<style scoped>\n",
       "    .dataframe tbody tr th:only-of-type {\n",
       "        vertical-align: middle;\n",
       "    }\n",
       "\n",
       "    .dataframe tbody tr th {\n",
       "        vertical-align: top;\n",
       "    }\n",
       "\n",
       "    .dataframe thead th {\n",
       "        text-align: right;\n",
       "    }\n",
       "</style>\n",
       "<table border=\"1\" class=\"dataframe\">\n",
       "  <thead>\n",
       "    <tr style=\"text-align: right;\">\n",
       "      <th></th>\n",
       "      <th>PassengerId</th>\n",
       "      <th>Survived</th>\n",
       "      <th>Pclass</th>\n",
       "      <th>Name</th>\n",
       "      <th>Sex</th>\n",
       "      <th>Age</th>\n",
       "      <th>SibSp</th>\n",
       "      <th>Parch</th>\n",
       "      <th>Ticket</th>\n",
       "      <th>Fare</th>\n",
       "      <th>Cabin</th>\n",
       "      <th>Embarked</th>\n",
       "      <th>Sex_numeric</th>\n",
       "      <th>Embarked_numeric</th>\n",
       "      <th>Cabin_site</th>\n",
       "    </tr>\n",
       "  </thead>\n",
       "  <tbody>\n",
       "    <tr>\n",
       "      <th>0</th>\n",
       "      <td>1</td>\n",
       "      <td>0</td>\n",
       "      <td>3</td>\n",
       "      <td>Braund, Mr. Owen Harris</td>\n",
       "      <td>male</td>\n",
       "      <td>22.0</td>\n",
       "      <td>1</td>\n",
       "      <td>0</td>\n",
       "      <td>A/5 21171</td>\n",
       "      <td>7.2500</td>\n",
       "      <td>NaN</td>\n",
       "      <td>S</td>\n",
       "      <td>1</td>\n",
       "      <td>2</td>\n",
       "      <td>5.0</td>\n",
       "    </tr>\n",
       "    <tr>\n",
       "      <th>1</th>\n",
       "      <td>2</td>\n",
       "      <td>1</td>\n",
       "      <td>1</td>\n",
       "      <td>Cumings, Mrs. John Bradley (Florence Briggs Th...</td>\n",
       "      <td>female</td>\n",
       "      <td>38.0</td>\n",
       "      <td>1</td>\n",
       "      <td>0</td>\n",
       "      <td>PC 17599</td>\n",
       "      <td>71.2833</td>\n",
       "      <td>C85</td>\n",
       "      <td>C</td>\n",
       "      <td>0</td>\n",
       "      <td>0</td>\n",
       "      <td>2.0</td>\n",
       "    </tr>\n",
       "    <tr>\n",
       "      <th>2</th>\n",
       "      <td>3</td>\n",
       "      <td>1</td>\n",
       "      <td>3</td>\n",
       "      <td>Heikkinen, Miss. Laina</td>\n",
       "      <td>female</td>\n",
       "      <td>26.0</td>\n",
       "      <td>0</td>\n",
       "      <td>0</td>\n",
       "      <td>STON/O2. 3101282</td>\n",
       "      <td>7.9250</td>\n",
       "      <td>NaN</td>\n",
       "      <td>S</td>\n",
       "      <td>0</td>\n",
       "      <td>2</td>\n",
       "      <td>5.0</td>\n",
       "    </tr>\n",
       "    <tr>\n",
       "      <th>3</th>\n",
       "      <td>4</td>\n",
       "      <td>1</td>\n",
       "      <td>1</td>\n",
       "      <td>Futrelle, Mrs. Jacques Heath (Lily May Peel)</td>\n",
       "      <td>female</td>\n",
       "      <td>35.0</td>\n",
       "      <td>1</td>\n",
       "      <td>0</td>\n",
       "      <td>113803</td>\n",
       "      <td>53.1000</td>\n",
       "      <td>C123</td>\n",
       "      <td>S</td>\n",
       "      <td>0</td>\n",
       "      <td>2</td>\n",
       "      <td>2.0</td>\n",
       "    </tr>\n",
       "    <tr>\n",
       "      <th>4</th>\n",
       "      <td>5</td>\n",
       "      <td>0</td>\n",
       "      <td>3</td>\n",
       "      <td>Allen, Mr. William Henry</td>\n",
       "      <td>male</td>\n",
       "      <td>35.0</td>\n",
       "      <td>0</td>\n",
       "      <td>0</td>\n",
       "      <td>373450</td>\n",
       "      <td>8.0500</td>\n",
       "      <td>NaN</td>\n",
       "      <td>S</td>\n",
       "      <td>1</td>\n",
       "      <td>2</td>\n",
       "      <td>5.0</td>\n",
       "    </tr>\n",
       "  </tbody>\n",
       "</table>\n",
       "</div>"
      ],
      "text/plain": [
       "   PassengerId  Survived  Pclass  \\\n",
       "0            1         0       3   \n",
       "1            2         1       1   \n",
       "2            3         1       3   \n",
       "3            4         1       1   \n",
       "4            5         0       3   \n",
       "\n",
       "                                                Name     Sex   Age  SibSp  \\\n",
       "0                            Braund, Mr. Owen Harris    male  22.0      1   \n",
       "1  Cumings, Mrs. John Bradley (Florence Briggs Th...  female  38.0      1   \n",
       "2                             Heikkinen, Miss. Laina  female  26.0      0   \n",
       "3       Futrelle, Mrs. Jacques Heath (Lily May Peel)  female  35.0      1   \n",
       "4                           Allen, Mr. William Henry    male  35.0      0   \n",
       "\n",
       "   Parch            Ticket     Fare Cabin Embarked  Sex_numeric  \\\n",
       "0      0         A/5 21171   7.2500   NaN        S            1   \n",
       "1      0          PC 17599  71.2833   C85        C            0   \n",
       "2      0  STON/O2. 3101282   7.9250   NaN        S            0   \n",
       "3      0            113803  53.1000  C123        S            0   \n",
       "4      0            373450   8.0500   NaN        S            1   \n",
       "\n",
       "   Embarked_numeric  Cabin_site  \n",
       "0                 2         5.0  \n",
       "1                 0         2.0  \n",
       "2                 2         5.0  \n",
       "3                 2         2.0  \n",
       "4                 2         5.0  "
      ]
     },
     "execution_count": 13,
     "metadata": {},
     "output_type": "execute_result"
    }
   ],
   "source": [
    "train.head()"
   ]
  },
  {
   "cell_type": "code",
   "execution_count": 14,
   "id": "c7e3c3ee",
   "metadata": {},
   "outputs": [
    {
     "name": "stdout",
     "output_type": "stream",
     "text": [
      "[[ 3.      1.     22.     ...  7.25    2.      5.    ]\n",
      " [ 1.      0.     38.     ... 71.2833  0.      2.    ]\n",
      " [ 3.      0.     26.     ...  7.925   2.      5.    ]\n",
      " ...\n",
      " [ 3.      0.     28.     ... 23.45    2.      5.    ]\n",
      " [ 1.      1.     26.     ... 30.      0.      2.    ]\n",
      " [ 3.      1.     32.     ...  7.75    1.      5.    ]]\n",
      "[0 1 1 1 0 0 0 0 1 1 1 1 0 0 0 1 0 1 0 1 0 1 1 1 0 1 0 0 1 0 0 1 1 0 0 0 1\n",
      " 0 0 1 0 0 0 1 1 0 0 1 0 0 0 0 1 1 0 1 1 0 1 0 0 1 0 0 0 1 1 0 1 0 0 0 0 0\n",
      " 1 0 0 0 1 1 0 1 1 0 1 1 0 0 1 0 0 0 0 0 0 0 0 1 1 0 0 0 0 0 0 0 1 1 0 1 0\n",
      " 0 0 0 0 0 0 0 0 0 0 0 0 1 0 1 0 1 1 0 0 0 0 1 0 0 1 0 0 0 0 1 1 0 0 0 1 0\n",
      " 0 0 0 1 0 0 0 0 1 0 0 0 0 1 0 0 0 1 1 0 0 0 0 0 1 0 0 0 0 0 0 0 0 0 0 1 1\n",
      " 0 1 1 0 0 1 0 1 1 1 1 0 0 1 0 0 0 0 0 1 0 0 1 1 1 0 1 0 0 0 1 1 0 1 0 1 0\n",
      " 0 0 1 0 1 0 0 0 1 0 0 1 0 0 0 1 0 0 0 1 0 0 0 0 0 1 1 0 0 0 0 0 0 1 1 1 1\n",
      " 1 0 1 0 0 0 0 0 1 1 1 0 1 1 0 1 1 0 0 0 1 0 0 0 1 0 0 1 0 1 1 1 1 0 0 0 0\n",
      " 0 0 1 1 1 1 0 1 0 1 1 1 0 1 1 1 0 0 0 1 1 0 1 1 0 0 1 1 0 1 0 1 1 1 1 0 0\n",
      " 0 1 0 0 1 1 0 1 1 0 0 0 1 1 1 1 0 0 0 0 0 0 0 1 0 1 1 0 0 0 0 0 0 1 1 1 1\n",
      " 1 0 0 0 0 1 1 0 0 0 1 1 0 1 0 0 0 1 0 1 1 1 0 1 1 0 0 0 0 1 1 0 0 0 0 0 0\n",
      " 1 0 0 0 0 1 0 1 0 1 1 0 0 0 0 0 0 0 0 1 1 0 1 1 1 1 0 0 1 0 1 0 0 1 0 0 1\n",
      " 1 1 1 1 1 1 0 0 0 1 0 1 0 1 1 0 1 0 0 0 0 0 0 0 0 1 0 0 1 1 0 0 0 0 0 1 0\n",
      " 0 0 1 1 0 1 0 0 1 0 0 0 0 0 0 1 0 0 0 0 0 0 0 1 0 1 1 0 1 1 0 1 1 0 0 1 0\n",
      " 1 0 1 0 0 1 0 0 1 0 0 0 1 0 0 1 0 1 0 1 0 1 1 0 0 1 0 0 1 1 0 1 1 0 0 1 1\n",
      " 0 1 0 1 1 0 0 0 0 0 0 0 0 0 1 1 1 1 1 0 0 1 1 0 1 1 1 0 0 0 1 0 1 0 0 0 1\n",
      " 0 0 0 0 1 0 0 1 1 0 0 0 1 0 0 1 1 1 0 0 1 0 0 1 0 0 1 0 0 1 1 0 0 0 0 1 0\n",
      " 0 1 0 1 0 0 1 0 0 0 0 0 1 0 1 1 1 0 1 0 1 0 1 0 1 0 0 0 0 0 0 1 0 0 0 1 0\n",
      " 0 0 0 1 1 0 0 1 0 0 0 1 0 1 0 1 0 0 0 0 0 0 0 1 1 1 1 0 0 0 0 1 0 0 1 1 0\n",
      " 0 0 0 1 1 1 1 1 0 1 0 0 0 1 1 0 0 1 0 0 0 1 0 1 1 0 0 1 0 0 0 0 0 0 1 0 0\n",
      " 1 0 1 0 1 0 0 1 0 0 1 1 0 0 1 1 0 0 0 1 0 0 1 1 0 1 0 0 0 0 0 0 0 0 1 0 0\n",
      " 1 0 1 1 1 0 0 0 0 1 0 1 0 0 0 0 0 0 0 1 1 0 0 0 1 1 1 1 0 0 0 0 1 0 0 0 0\n",
      " 0 0 0 0 0 0 1 1 0 1 0 0 0 1 1 1 1 1 0 0 0 1 0 0 1 1 0 0 1 0 0 0 0 0 0 1 0\n",
      " 0 0 1 0 1 1 1 1 0 0 0 1 0 0 1 1 0 0 1 0 1 0 0 1 1 0 0 0 1 1 0 0 0 0 0 0 1\n",
      " 0 1 0]\n"
     ]
    }
   ],
   "source": [
    "train_input = train[['Pclass', 'Sex_numeric', 'Age', 'SibSp', 'Parch', 'Fare', 'Embarked_numeric', 'Cabin_site']].to_numpy()\n",
    "train_target = train['Survived'].to_numpy()\n",
    "test_input = test[['Pclass', 'Sex_numeric', 'Age', 'SibSp', 'Parch', 'Fare', 'Embarked_numeric', 'Cabin_site']].to_numpy()\n",
    "\n",
    "print(train_input)\n",
    "print(train_target)"
   ]
  },
  {
   "cell_type": "code",
   "execution_count": 15,
   "id": "8fa1e33c",
   "metadata": {},
   "outputs": [
    {
     "name": "stdout",
     "output_type": "stream",
     "text": [
      "(712, 8) (179, 8)\n"
     ]
    }
   ],
   "source": [
    "# 훈련세트의 과적합을 피하기 위해 훈련세트와 검증세트로 나눠줌\n",
    "from sklearn.model_selection import train_test_split\n",
    "\n",
    "sub_input, val_input, sub_target, val_target = train_test_split(train_input, train_target, test_size=0.2, random_state=42)\n",
    "\n",
    "print(sub_input.shape, val_input.shape)"
   ]
  },
  {
   "cell_type": "markdown",
   "id": "19efcaa0",
   "metadata": {},
   "source": [
    "# 알고리즘 선택"
   ]
  },
  {
   "cell_type": "code",
   "execution_count": 16,
   "id": "653a17e4",
   "metadata": {},
   "outputs": [],
   "source": [
    "# 표준화 전처리\n",
    "from sklearn.preprocessing import StandardScaler\n",
    "\n",
    "ss = StandardScaler()\n",
    "ss.fit(sub_input)\n",
    "sub_scaled = ss.transform(sub_input)\n",
    "val_scaled = ss.transform(val_input)"
   ]
  },
  {
   "cell_type": "markdown",
   "id": "82e7053f",
   "metadata": {},
   "source": [
    "## KNN\n",
    "\n",
    "생존자 예측을 하기 위해서 분류알고리즘을 이용하여 최적의 알고리즘을 선별\n",
    "</br>그 후 회귀를 이용하여 예측"
   ]
  },
  {
   "cell_type": "code",
   "execution_count": 17,
   "id": "fc84c430",
   "metadata": {
    "scrolled": true
   },
   "outputs": [
    {
     "name": "stdout",
     "output_type": "stream",
     "text": [
      "0.8693820224719101\n",
      "0.7821229050279329\n"
     ]
    }
   ],
   "source": [
    "# K-최근접 이웃 분류기의 확률 예측\n",
    "from sklearn.neighbors import KNeighborsClassifier\n",
    "\n",
    "kn = KNeighborsClassifier(n_neighbors=3)\n",
    "kn.fit(sub_scaled, sub_target)\n",
    "\n",
    "print(kn.score(sub_scaled, sub_target))\n",
    "print(kn.score(val_scaled, val_target))\n",
    "# 과소적합 발생"
   ]
  },
  {
   "cell_type": "markdown",
   "id": "191879ac",
   "metadata": {},
   "source": [
    "## 다중 회귀"
   ]
  },
  {
   "cell_type": "code",
   "execution_count": 18,
   "id": "ab484083",
   "metadata": {},
   "outputs": [
    {
     "name": "stdout",
     "output_type": "stream",
     "text": [
      "(712, 164)\n"
     ]
    }
   ],
   "source": [
    "# 다중 회귀\n",
    "from sklearn.preprocessing import PolynomialFeatures\n",
    "\n",
    "poly = PolynomialFeatures(degree=3, include_bias=False)\n",
    "poly.fit(sub_input)\n",
    "sub_poly = poly.transform(sub_input)\n",
    "print(sub_poly.shape)\n",
    "# 변환기를 이용한 특성 생성"
   ]
  },
  {
   "cell_type": "code",
   "execution_count": 19,
   "id": "478650be",
   "metadata": {},
   "outputs": [],
   "source": [
    "val_poly = poly.transform(val_input)\n",
    "# 검증세트에 특성 적용"
   ]
  },
  {
   "cell_type": "code",
   "execution_count": 20,
   "id": "71d4b557",
   "metadata": {},
   "outputs": [
    {
     "name": "stdout",
     "output_type": "stream",
     "text": [
      "0.5675722868809517\n",
      "0.28767477836325583\n"
     ]
    }
   ],
   "source": [
    "from sklearn.linear_model import LinearRegression\n",
    "\n",
    "lr = LinearRegression()\n",
    "lr.fit(sub_poly, sub_target)\n",
    "\n",
    "print(lr.score(sub_poly, sub_target))\n",
    "print(lr.score(val_poly, val_target))"
   ]
  },
  {
   "cell_type": "markdown",
   "id": "4eced993",
   "metadata": {},
   "source": [
    "## 릿지 회귀"
   ]
  },
  {
   "cell_type": "code",
   "execution_count": 21,
   "id": "a15aa6c7",
   "metadata": {},
   "outputs": [],
   "source": [
    "ss.fit(sub_poly)\n",
    "sub_poly_scaled = ss.transform(sub_poly)\n",
    "val_poly_scaled = ss.transform(val_poly)"
   ]
  },
  {
   "cell_type": "code",
   "execution_count": 22,
   "id": "14bf924f",
   "metadata": {},
   "outputs": [
    {
     "name": "stdout",
     "output_type": "stream",
     "text": [
      "0.5345460693722296\n",
      "0.4133312947336396\n"
     ]
    }
   ],
   "source": [
    "# 다중회귀에서 훈련 세트에 너무 과적합되었기 때문에 규제필요\n",
    "from sklearn.linear_model import Ridge\n",
    "\n",
    "ridge = Ridge()\n",
    "ridge.fit(sub_poly_scaled, sub_target)\n",
    "\n",
    "print(ridge.score(sub_poly_scaled, sub_target))\n",
    "print(ridge.score(val_poly_scaled, val_target))\n",
    "# 과대적합 발생"
   ]
  },
  {
   "cell_type": "code",
   "execution_count": 23,
   "id": "c2d2a864",
   "metadata": {},
   "outputs": [],
   "source": [
    "# alpha 값을 찾기 위한 그래프 출력\n",
    "sub_ridge_score = []\n",
    "val_ridge_score = []\n",
    "\n",
    "alpha_list = [0.001, 0.01, 0.1, 1, 10, 100]\n",
    "\n",
    "for alpha in alpha_list:\n",
    "    ridge = Ridge(alpha=alpha)\n",
    "    ridge.fit(sub_poly_scaled, sub_target)\n",
    "    \n",
    "    sub_ridge_score.append(ridge.score(sub_poly_scaled, sub_target))\n",
    "    val_ridge_score.append(ridge.score(val_poly_scaled, val_target))"
   ]
  },
  {
   "cell_type": "code",
   "execution_count": 24,
   "id": "31c39ef7",
   "metadata": {},
   "outputs": [
    {
     "data": {
      "image/png": "[encoded data removed]",
      "text/plain": [
       "<Figure size 640x480 with 1 Axes>"
      ]
     },
     "metadata": {},
     "output_type": "display_data"
    }
   ],
   "source": [
    "plt.plot(np.log10(alpha_list), sub_ridge_score)\n",
    "plt.plot(np.log10(alpha_list), val_ridge_score)\n",
    "\n",
    "plt.xlabel('alpha')\n",
    "plt.ylabel('R^2')\n",
    "\n",
    "plt.show()"
   ]
  },
  {
   "cell_type": "code",
   "execution_count": 25,
   "id": "1970a791",
   "metadata": {},
   "outputs": [
    {
     "name": "stdout",
     "output_type": "stream",
     "text": [
      "0.5122712264502428\n",
      "0.4357672891861726\n"
     ]
    }
   ],
   "source": [
    "# alpha값이 작을 수록 과대적합, 클 수록 과소적합\n",
    "ridge = Ridge(alpha=10)\n",
    "ridge.fit(sub_poly_scaled, sub_target)\n",
    "\n",
    "print(ridge.score(sub_poly_scaled, sub_target))\n",
    "print(ridge.score(val_poly_scaled, val_target))\n",
    "# 최적의 alpha를 찾았음에도 기본적으로 과소적합이 발생"
   ]
  },
  {
   "cell_type": "markdown",
   "id": "e608609a",
   "metadata": {},
   "source": [
    "## 라쏘 회귀"
   ]
  },
  {
   "cell_type": "code",
   "execution_count": 26,
   "id": "4efe00a0",
   "metadata": {},
   "outputs": [
    {
     "name": "stdout",
     "output_type": "stream",
     "text": [
      "0.0\n",
      "-0.005646334288551325\n"
     ]
    }
   ],
   "source": [
    "from sklearn.linear_model import Lasso\n",
    "\n",
    "lasso = Lasso()\n",
    "lasso.fit(sub_poly_scaled, sub_target)\n",
    "\n",
    "print(lasso.score(sub_poly_scaled, sub_target))\n",
    "print(lasso.score(val_poly_scaled, val_target))"
   ]
  },
  {
   "cell_type": "code",
   "execution_count": 27,
   "id": "c2d0d23c",
   "metadata": {},
   "outputs": [],
   "source": [
    "# alpha 값을 찾기 위한 그래프 출력\n",
    "sub_lasso_score = []\n",
    "val_lasso_score = []\n",
    "\n",
    "alpha_list = [0.001, 0.01, 0.1, 1, 10, 100]\n",
    "\n",
    "for alpha in alpha_list:\n",
    "    lasso = Lasso(alpha=alpha, max_iter=10000)\n",
    "    lasso.fit(sub_poly_scaled, sub_target)\n",
    "    \n",
    "    sub_lasso_score.append(lasso.score(sub_poly_scaled, sub_target))\n",
    "    val_lasso_score.append(lasso.score(val_poly_scaled, val_target))"
   ]
  },
  {
   "cell_type": "code",
   "execution_count": 28,
   "id": "f0f2f6c4",
   "metadata": {},
   "outputs": [
    {
     "data": {
      "image/png": "[encoded data removed]",
      "text/plain": [
       "<Figure size 640x480 with 1 Axes>"
      ]
     },
     "metadata": {},
     "output_type": "display_data"
    }
   ],
   "source": [
    "plt.plot(np.log10(alpha_list), sub_lasso_score)\n",
    "plt.plot(np.log10(alpha_list), val_lasso_score)\n",
    "\n",
    "plt.xlabel('alpha')\n",
    "plt.ylabel('R^2')\n",
    "\n",
    "plt.show()"
   ]
  },
  {
   "cell_type": "code",
   "execution_count": 29,
   "id": "9cdc6c82",
   "metadata": {},
   "outputs": [
    {
     "name": "stdout",
     "output_type": "stream",
     "text": [
      "0.5083568872973125\n",
      "0.42751493855157674\n"
     ]
    }
   ],
   "source": [
    "lasso = Lasso(alpha=0.001, max_iter=10000)\n",
    "lasso.fit(sub_poly_scaled, sub_target)\n",
    "\n",
    "print(lasso.score(sub_poly_scaled, sub_target))\n",
    "print(lasso.score(val_poly_scaled, val_target))\n",
    "# 과소적합이 뜸"
   ]
  },
  {
   "cell_type": "markdown",
   "id": "a31afafb",
   "metadata": {},
   "source": [
    "## 로지스틱 회귀"
   ]
  },
  {
   "cell_type": "code",
   "execution_count": 30,
   "id": "dceea782",
   "metadata": {},
   "outputs": [
    {
     "name": "stdout",
     "output_type": "stream",
     "text": [
      "0.8089887640449438\n",
      "0.7988826815642458\n"
     ]
    }
   ],
   "source": [
    "from sklearn.linear_model import LogisticRegression\n",
    "\n",
    "lr = LogisticRegression(C=10, max_iter=1000)\n",
    "lr.fit(sub_scaled, sub_target)\n",
    "\n",
    "print(lr.score(sub_scaled, sub_target))\n",
    "print(lr.score(val_scaled, val_target))"
   ]
  },
  {
   "cell_type": "markdown",
   "id": "6472149c",
   "metadata": {},
   "source": [
    "## SGD"
   ]
  },
  {
   "cell_type": "code",
   "execution_count": 31,
   "id": "19d22c0b",
   "metadata": {},
   "outputs": [
    {
     "name": "stdout",
     "output_type": "stream",
     "text": [
      "0.7570224719101124\n",
      "0.770949720670391\n"
     ]
    }
   ],
   "source": [
    "from sklearn.linear_model import SGDClassifier\n",
    "\n",
    "sc = SGDClassifier(loss='log_loss', max_iter=100, random_state=42)\n",
    "sc.fit(sub_scaled, sub_target)\n",
    "\n",
    "print(sc.score(sub_scaled, sub_target))\n",
    "print(sc.score(val_scaled, val_target))"
   ]
  },
  {
   "cell_type": "code",
   "execution_count": 32,
   "id": "01af7141",
   "metadata": {},
   "outputs": [],
   "source": [
    "sub_sc_score = []\n",
    "val_sc_score = []\n",
    "\n",
    "classes = np.unique(sub_target)"
   ]
  },
  {
   "cell_type": "code",
   "execution_count": 33,
   "id": "73e7a348",
   "metadata": {},
   "outputs": [],
   "source": [
    "for _ in range(0, 10000):\n",
    "    sc.partial_fit(sub_scaled, sub_target, classes=classes)\n",
    "    sub_sc_score.append(sc.score(sub_scaled, sub_target))\n",
    "    val_sc_score.append(sc.score(val_scaled, val_target))"
   ]
  },
  {
   "cell_type": "code",
   "execution_count": 34,
   "id": "0ed974b4",
   "metadata": {},
   "outputs": [
    {
     "data": {
      "image/png": "[encoded data removed]",
      "text/plain": [
       "<Figure size 640x480 with 1 Axes>"
      ]
     },
     "metadata": {},
     "output_type": "display_data"
    }
   ],
   "source": [
    "plt.plot(sub_sc_score)\n",
    "plt.plot(val_sc_score)\n",
    "\n",
    "plt.xlabel('epoch')\n",
    "plt.ylabel('accuracy')\n",
    "\n",
    "plt.show()"
   ]
  },
  {
   "cell_type": "code",
   "execution_count": 35,
   "id": "b03350bb",
   "metadata": {},
   "outputs": [
    {
     "name": "stdout",
     "output_type": "stream",
     "text": [
      "0.8075842696629213\n",
      "0.7988826815642458\n"
     ]
    }
   ],
   "source": [
    "sc = SGDClassifier(loss='log_loss', max_iter=3000, tol=None, random_state=42)\n",
    "sc.fit(sub_scaled, sub_target)\n",
    "\n",
    "print(sc.score(sub_scaled, sub_target))\n",
    "print(sc.score(val_scaled, val_target))"
   ]
  },
  {
   "cell_type": "markdown",
   "id": "dfd2ae0d",
   "metadata": {},
   "source": [
    "## RandomForest"
   ]
  },
  {
   "cell_type": "code",
   "execution_count": 36,
   "id": "28a69c8a",
   "metadata": {},
   "outputs": [
    {
     "name": "stdout",
     "output_type": "stream",
     "text": [
      "0.9820929300403911 0.7865655471289275\n"
     ]
    }
   ],
   "source": [
    "from sklearn.model_selection import cross_validate\n",
    "from sklearn.ensemble import RandomForestClassifier\n",
    "\n",
    "rf = RandomForestClassifier(n_jobs=1, random_state=42)\n",
    "scores = cross_validate(rf, sub_input, sub_target, return_train_score=True, n_jobs=-1)\n",
    "\n",
    "print(np.mean(scores['train_score']), np.mean(scores['test_score']))\n",
    "# 과대적합이 보임"
   ]
  },
  {
   "cell_type": "markdown",
   "id": "87d319f1",
   "metadata": {},
   "source": [
    "## ExtraTree"
   ]
  },
  {
   "cell_type": "code",
   "execution_count": 37,
   "id": "846fc9df",
   "metadata": {},
   "outputs": [
    {
     "name": "stdout",
     "output_type": "stream",
     "text": [
      "0.9820929300403911 0.7781246922091993\n"
     ]
    }
   ],
   "source": [
    "from sklearn.ensemble import ExtraTreesClassifier\n",
    "\n",
    "et = ExtraTreesClassifier(n_jobs=-1, random_state=42)\n",
    "scores = cross_validate(et, sub_input, sub_target, return_train_score=True, n_jobs=-1)\n",
    "\n",
    "print(np.mean(scores['train_score']), np.mean(scores['test_score']))"
   ]
  },
  {
   "cell_type": "markdown",
   "id": "8d157485",
   "metadata": {},
   "source": [
    "## 그레이디언트 부스팅"
   ]
  },
  {
   "cell_type": "code",
   "execution_count": 38,
   "id": "1b44670a",
   "metadata": {},
   "outputs": [
    {
     "name": "stdout",
     "output_type": "stream",
     "text": [
      "0.906951561681004 0.8145572737122032\n"
     ]
    }
   ],
   "source": [
    "from sklearn.ensemble import GradientBoostingClassifier\n",
    "\n",
    "gb = GradientBoostingClassifier(random_state=42)\n",
    "scores = cross_validate(gb, sub_input, sub_target, return_train_score=True, n_jobs=-1)\n",
    "\n",
    "print(np.mean(scores['train_score']), np.mean(scores['test_score']))\n",
    "# 과대적합이 조금 해소되었음, 아직 남아있긴 하다."
   ]
  },
  {
   "cell_type": "code",
   "execution_count": 39,
   "id": "08fe288c",
   "metadata": {},
   "outputs": [],
   "source": [
    "# 결정 트리 개수 최적 매개변수 찾기\n",
    "sub_gb_score = []\n",
    "val_gb_score = []\n",
    "\n",
    "for ne in range(1, 100):\n",
    "    gb = GradientBoostingClassifier(n_estimators=ne, learning_rate=0.2, random_state=42)\n",
    "    scores = cross_validate(gb, sub_input, sub_target, return_train_score=True, n_jobs=-1)\n",
    "    \n",
    "    sub_gb_score.append(np.mean(scores['train_score']))\n",
    "    val_gb_score.append(np.mean(scores['test_score']))"
   ]
  },
  {
   "cell_type": "code",
   "execution_count": 40,
   "id": "6aa01e40",
   "metadata": {},
   "outputs": [
    {
     "data": {
      "image/png": "[encoded data removed]",
      "text/plain": [
       "<Figure size 640x480 with 1 Axes>"
      ]
     },
     "metadata": {},
     "output_type": "display_data"
    }
   ],
   "source": [
    "plt.plot(sub_gb_score)\n",
    "plt.plot(val_gb_score)\n",
    "\n",
    "plt.xlabel('n_estimators')\n",
    "plt.ylabel('accuracy')\n",
    "\n",
    "plt.show()"
   ]
  },
  {
   "cell_type": "code",
   "execution_count": 41,
   "id": "9b7c9508",
   "metadata": {},
   "outputs": [
    {
     "name": "stdout",
     "output_type": "stream",
     "text": [
      "0.9016853205068912 0.8201812272234807\n"
     ]
    }
   ],
   "source": [
    "gb = GradientBoostingClassifier(n_estimators=40, learning_rate=0.2, random_state=42)\n",
    "scores = cross_validate(gb, sub_input, sub_target, return_train_score=True, n_jobs=-1)\n",
    "\n",
    "print(np.mean(scores['train_score']), np.mean(scores['test_score']))"
   ]
  },
  {
   "cell_type": "markdown",
   "id": "b9cc4f0a",
   "metadata": {},
   "source": [
    "## 히스토그램 기반 그레이디언트 부스팅"
   ]
  },
  {
   "cell_type": "code",
   "execution_count": 42,
   "id": "1f1dffe1",
   "metadata": {
    "scrolled": true
   },
   "outputs": [
    {
     "name": "stdout",
     "output_type": "stream",
     "text": [
      "0.9715598310362902 0.8033980104402639\n"
     ]
    }
   ],
   "source": [
    "from xgboost import XGBClassifier\n",
    "\n",
    "xgb = XGBClassifier(tree_method='hist', random_state=42)\n",
    "scores = cross_validate(xgb, sub_input, sub_target, return_train_score=True, n_jobs=-1)\n",
    "\n",
    "print(np.mean(scores['train_score']), np.mean(scores['test_score']))\n",
    "# 과대적합이 보임"
   ]
  },
  {
   "cell_type": "markdown",
   "id": "5825eb13",
   "metadata": {},
   "source": [
    "# 예측"
   ]
  },
  {
   "cell_type": "code",
   "execution_count": 48,
   "id": "e4af76b3",
   "metadata": {},
   "outputs": [],
   "source": [
    "# 그레이디언트 부스팅이 가장 적합한 알고리즘으로 보였기 때문에 그것을 이용하여 생존자, 사망자 예측에 대입\n",
    "from sklearn.ensemble import GradientBoostingRegressor\n",
    "\n",
    "gbr = GradientBoostingRegressor(n_estimators=40, learning_rate=0.2, random_state=42)\n",
    "gbr.fit(sub_input, sub_target)\n",
    "\n",
    "# 이진 분류 예측을 위해 0.5를 임계값으로 설정\n",
    "threshold = 0.5\n",
    "\n",
    "# 예측한 값이 0.5 이상인 경우 1로, 미만인 경우 0으로 변경\n",
    "gender_submission['Survived'] = [1 if pred >= threshold else 0 for pred in gender_submission['Survived']]\n",
    "gender_submission.to_csv('titanic-submission.csv', index=False)"
   ]
  }
 ],
 "metadata": {
  "kernelspec": {
   "display_name": "Python 3 (ipykernel)",
   "language": "python",
   "name": "python3"
  },
  "language_info": {
   "codemirror_mode": {
    "name": "ipython",
    "version": 3
   },
   "file_extension": ".py",
   "mimetype": "text/x-python",
   "name": "python",
   "nbconvert_exporter": "python",
   "pygments_lexer": "ipython3",
   "version": "3.10.12"
  },
  "toc": {
   "base_numbering": 1,
   "nav_menu": {
    "height": "232px",
    "width": "213px"
   },
   "number_sections": true,
   "sideBar": true,
   "skip_h1_title": false,
   "title_cell": "Table of Contents",
   "title_sidebar": "Contents",
   "toc_cell": false,
   "toc_position": {},
   "toc_section_display": true,
   "toc_window_display": false
  }
 },
 "nbformat": 4,
 "nbformat_minor": 5
}
